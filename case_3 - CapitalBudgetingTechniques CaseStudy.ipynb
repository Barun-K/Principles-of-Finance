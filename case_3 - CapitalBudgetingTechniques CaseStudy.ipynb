{
 "cells": [
  {
   "cell_type": "markdown",
   "metadata": {},
   "source": [
    "# FINANCE ASSIGNMENT : 3"
   ]
  },
  {
   "cell_type": "markdown",
   "metadata": {},
   "source": [
    "## Barun Kumar : 18125760015 "
   ]
  },
  {
   "cell_type": "markdown",
   "metadata": {},
   "source": [
    "### A. PAYBACK PERIOD WITHOUT DISCOUNTING"
   ]
  },
  {
   "cell_type": "code",
   "execution_count": 75,
   "metadata": {},
   "outputs": [],
   "source": [
    "import numpy as np"
   ]
  },
  {
   "cell_type": "code",
   "execution_count": 126,
   "metadata": {},
   "outputs": [],
   "source": [
    "def PPWOUTD():\n",
    "# Getting user input for investemnt and cashflows\n",
    "    c = 1\n",
    "    cf = []\n",
    "    print('-------------------------------------------')\n",
    "    time = int(input('ENTER TENURE : '))\n",
    "    print('-------------------------------------------')\n",
    "    icf = float(input('FOR YEAR 0, ENTER INITIAL CASH INVESTMENT : '))\n",
    "    while c<=time:\n",
    "        print('-------------------------------------------')\n",
    "        print('FOR ','YEAR ',c)\n",
    "        cfi = float(input('ENTER CASH INFLOW : '))\n",
    "        cf.append(cfi)\n",
    "        c = c + 1\n",
    "    cf = np.array(cf)\n",
    "\n",
    "# Calculating cummulative sum for cashflows\n",
    "    cum_sum = []\n",
    "    s = 0\n",
    "    for i in range(0,time):\n",
    "        s = s + cf[i]\n",
    "        cum_sum.append(s)\n",
    "    cum_sum = np.array(cum_sum)\n",
    "\n",
    "# Calculating payback period\n",
    "    year = 0.0\n",
    "    for i in range(0,time):\n",
    "        if(cum_sum[i]<icf):\n",
    "            cal = round(((icf - cum_sum[i])/cf[i+1]),2)\n",
    "            year = i + 1 + cal\n",
    "    print('************************************************')\n",
    "    return(print('Payback period without discounting in years : ',year))"
   ]
  },
  {
   "cell_type": "code",
   "execution_count": 127,
   "metadata": {},
   "outputs": [
    {
     "name": "stdout",
     "output_type": "stream",
     "text": [
      "-------------------------------------------\n",
      "ENTER TENURE : 4\n",
      "-------------------------------------------\n",
      "FOR YEAR 0, ENTER INITIAL CASH INVESTMENT : 50000\n",
      "-------------------------------------------\n",
      "FOR  YEAR  1\n",
      "ENTER CASH INFLOW : 20000\n",
      "-------------------------------------------\n",
      "FOR  YEAR  2\n",
      "ENTER CASH INFLOW : 15000\n",
      "-------------------------------------------\n",
      "FOR  YEAR  3\n",
      "ENTER CASH INFLOW : 10000\n",
      "-------------------------------------------\n",
      "FOR  YEAR  4\n",
      "ENTER CASH INFLOW : 10000\n",
      "************************************************\n",
      "Payback period without discounting in years :  3.5\n"
     ]
    }
   ],
   "source": [
    "PPWOUTD()"
   ]
  },
  {
   "cell_type": "markdown",
   "metadata": {},
   "source": [
    "### B. PAYBACK PERIOD WITH DISCOUNTING"
   ]
  },
  {
   "cell_type": "code",
   "execution_count": 122,
   "metadata": {},
   "outputs": [],
   "source": [
    "def PPWD():\n",
    "# Getting user input for investemnt and cashflows\n",
    "    c = 1\n",
    "    cf = []\n",
    "    time = int(input('ENTER TENURE : '))\n",
    "    print('-------------------------------------------')\n",
    "    icf = float(input('FOR YEAR 0, ENTER INITIAL CASH INVESTMENT : '))\n",
    "    while c<=time:\n",
    "        print('FOR ','YEAR ',c)\n",
    "        print('-------------------------------------------')\n",
    "        cfi = float(input('ENTER CASH INFLOW : '))\n",
    "        cf.append(cfi)\n",
    "        c = c + 1\n",
    "    cf = np.array(cf)\n",
    "\n",
    "# Calculating present value of cashflows\n",
    "    x = 1\n",
    "    p = []\n",
    "    print('-------------------------------------------')\n",
    "    rate = float(input('ENTER RATE OF INTREST : '))\n",
    "    while x<=time:\n",
    "        pvaf=(1+(rate/100))**(-x)\n",
    "        p.append(pvaf)\n",
    "        x = x + 1\n",
    "    p = np.array(p)\n",
    "    pv = p*cf\n",
    "\n",
    "# Calculating cummulative sum for pressent values of cashflows\n",
    "    cum_sum = []\n",
    "    s = 0\n",
    "    for i in range(0,time):\n",
    "        s = s + pv[i]\n",
    "        cum_sum.append(s)\n",
    "    cum_sum = np.array(cum_sum)\n",
    "\n",
    "# Calculating payback period without discounting\n",
    "    year = 0.0\n",
    "    for i in range(0,time):\n",
    "        if(cum_sum[i]<icf):\n",
    "            cal = round(((icf - cum_sum[i])/cf[i+1]),2)\n",
    "            year = i + 1 + cal\n",
    "    print('************************************************')\n",
    "    return(print('Payback period without discounting (in years) : ',year))"
   ]
  },
  {
   "cell_type": "code",
   "execution_count": 123,
   "metadata": {},
   "outputs": [
    {
     "name": "stdout",
     "output_type": "stream",
     "text": [
      "ENTER TENURE : 4\n",
      "-------------------------------------------\n",
      "FOR YEAR 0, ENTER INITIAL CASH INVESTMENT : 1000\n",
      "FOR  YEAR  1\n",
      "-------------------------------------------\n",
      "ENTER CASH INFLOW : 200\n",
      "FOR  YEAR  2\n",
      "-------------------------------------------\n",
      "ENTER CASH INFLOW : 350\n",
      "FOR  YEAR  3\n",
      "-------------------------------------------\n",
      "ENTER CASH INFLOW : 400\n",
      "FOR  YEAR  4\n",
      "-------------------------------------------\n",
      "ENTER CASH INFLOW : 600\n",
      "-------------------------------------------\n",
      "ENTER RATE OF INTREST : 10\n",
      "************************************************\n",
      "Payback period without discounting (in years) :  3.38\n"
     ]
    }
   ],
   "source": [
    "PPWD()"
   ]
  },
  {
   "cell_type": "markdown",
   "metadata": {},
   "source": [
    "### C. NET PRESENT VALUE "
   ]
  },
  {
   "cell_type": "code",
   "execution_count": 118,
   "metadata": {},
   "outputs": [],
   "source": [
    "def NPV():\n",
    "# Getting user input for investemnt and cashflows\n",
    "    c = 1\n",
    "    cf = []\n",
    "    time = int(input('ENTER TENURE : '))\n",
    "    icf = float(input('FOR YEAR 0, ENTER INITIAL CASH INVESTMENT : '))\n",
    "    while c<=time:\n",
    "        print('-------------------------------------------')\n",
    "        print('FOR ','YEAR ',c)\n",
    "        cfi = float(input('ENTER CASH INFLOW : '))\n",
    "        cf.append(cfi)\n",
    "        c = c + 1\n",
    "    cf = np.array(cf)\n",
    "\n",
    "# Calculating present value of cashflows\n",
    "    x = 1\n",
    "    p = []\n",
    "    print('-------------------------------------------')\n",
    "    rate = float(input('ENTER RATE OF INTREST : '))\n",
    "    while x<=time:\n",
    "        pvaf=(1+(rate/100))**(-x)\n",
    "        p.append(pvaf)\n",
    "        x = x + 1\n",
    "    p = np.array(p)\n",
    "    pv = p*cf\n",
    "\n",
    "# Calculating payback period\n",
    "    year = 0.0\n",
    "    cal = round((np.sum(pv) - icf),2)\n",
    "    print('*********************************')\n",
    "    return(print('NPV : ',cal))"
   ]
  },
  {
   "cell_type": "code",
   "execution_count": 119,
   "metadata": {},
   "outputs": [
    {
     "name": "stdout",
     "output_type": "stream",
     "text": [
      "ENTER TENURE : 5\n",
      "FOR YEAR 0, ENTER INITIAL CASH INVESTMENT : 2500\n",
      "-------------------------------------------\n",
      "FOR  YEAR  1\n",
      "ENTER CASH INFLOW : 900\n",
      "-------------------------------------------\n",
      "FOR  YEAR  2\n",
      "ENTER CASH INFLOW : 800\n",
      "-------------------------------------------\n",
      "FOR  YEAR  3\n",
      "ENTER CASH INFLOW : 700\n",
      "-------------------------------------------\n",
      "FOR  YEAR  4\n",
      "ENTER CASH INFLOW : 600\n",
      "-------------------------------------------\n",
      "FOR  YEAR  5\n",
      "ENTER CASH INFLOW : 500\n",
      "-------------------------------------------\n",
      "ENTER RATE OF INTREST : 10\n",
      "*********************************\n",
      "NPV :  225.53\n"
     ]
    }
   ],
   "source": [
    "NPV()"
   ]
  },
  {
   "cell_type": "markdown",
   "metadata": {},
   "source": [
    "### D. INTERNAL RATE OF RETURN"
   ]
  },
  {
   "cell_type": "code",
   "execution_count": 116,
   "metadata": {},
   "outputs": [],
   "source": [
    "def IRR():\n",
    "# Getting user input for cashflows and duration\n",
    "    c = 1\n",
    "    cf = []\n",
    "    time = int(input('ENTER TENURE : '))\n",
    "    icf = (-(float(input('FOR YEAR 0, ENTER INITIAL CASH INFLOW : '))))\n",
    "    while c<=time:\n",
    "        print('-------------------------------------------')\n",
    "        print('FOR ','YEAR ',c)\n",
    "        cfi = float(input('ENTER CASH INFLOW : '))\n",
    "        cf.append(cfi)\n",
    "        c = c + 1\n",
    "    cf = np.array(cf)\n",
    "    \n",
    "# Calculating NPV's for rates where it becomes negative-valued\n",
    "    rate = 0\n",
    "    npv = 1\n",
    "    while npv>=0:\n",
    "        c = 1\n",
    "        p = []\n",
    "        C = npv\n",
    "        while c<=time:\n",
    "            pvaf=(1+(rate/100))**(-c)\n",
    "            p.append(pvaf)\n",
    "            c = c + 1\n",
    "        p = np.array(p)\n",
    "        pv = p*cf\n",
    "        npv = np.sum(pv) + icf\n",
    "        A = rate - 4\n",
    "        B = rate\n",
    "        D = npv\n",
    "        rate = rate + 4\n",
    "# Calculating IRR and returning to function\n",
    "    IRR = round(((A) + (C*(B-A)/(C-D))),2)\n",
    "    print('********************************************')\n",
    "    return(print(\"IRR FOR GIVEN MODEL IS :\",IRR))"
   ]
  },
  {
   "cell_type": "code",
   "execution_count": 117,
   "metadata": {},
   "outputs": [
    {
     "name": "stdout",
     "output_type": "stream",
     "text": [
      "ENTER TENURE : 5\n",
      "FOR YEAR 0, ENTER INITIAL CASH INFLOW : 100\n",
      "-------------------------------------------\n",
      "FOR  YEAR  1\n",
      "ENTER CASH INFLOW : 34\n",
      "-------------------------------------------\n",
      "FOR  YEAR  2\n",
      "ENTER CASH INFLOW : 32.50\n",
      "-------------------------------------------\n",
      "FOR  YEAR  3\n",
      "ENTER CASH INFLOW : 31.37\n",
      "-------------------------------------------\n",
      "FOR  YEAR  4\n",
      "ENTER CASH INFLOW : 30.53\n",
      "-------------------------------------------\n",
      "FOR  YEAR  5\n",
      "ENTER CASH INFLOW : 79.90\n",
      "********************************************\n",
      "IRR FOR GIVEN MODEL IS : 26.25\n"
     ]
    }
   ],
   "source": [
    "IRR()"
   ]
  },
  {
   "cell_type": "code",
   "execution_count": null,
   "metadata": {},
   "outputs": [],
   "source": []
  }
 ],
 "metadata": {
  "kernelspec": {
   "display_name": "Python 3",
   "language": "python",
   "name": "python3"
  },
  "language_info": {
   "codemirror_mode": {
    "name": "ipython",
    "version": 3
   },
   "file_extension": ".py",
   "mimetype": "text/x-python",
   "name": "python",
   "nbconvert_exporter": "python",
   "pygments_lexer": "ipython3",
   "version": "3.6.4"
  }
 },
 "nbformat": 4,
 "nbformat_minor": 2
}
